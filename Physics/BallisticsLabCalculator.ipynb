{
 "cells": [
  {
   "cell_type": "code",
   "execution_count": 1,
   "metadata": {},
   "outputs": [
    {
     "name": "stdout",
     "output_type": "stream",
     "text": [
      "0.030189968624504696\n",
      "5.964153746614576\n"
     ]
    }
   ],
   "source": [
    "from math import *\n",
    "m=0.06945\n",
    "md=0.00005\n",
    "M=0.23159\n",
    "Md=0.00005\n",
    "l=0.307\n",
    "ld=0.002\n",
    "t=radians(46.71)\n",
    "td=radians(0.6)/sqrt(10)\n",
    "g=9.81\n",
    "\n",
    "print(sqrt((sqrt(2*g*l*(1-cos(t)))*M/m/m*md)**2\n",
    "+(sqrt(2*g*l*(1-cos(t)))/M*Md)**2\n",
    "+(0.5*l**(-0.5)*sqrt(2*g*(1-cos(t)))*(M+m)/m*ld)**2\n",
    "+(sqrt(2*g*l)*0.5*(1-cos(t))**(-0.5)*sin(t)*(M+m)/m*td)**2))\n",
    "\n",
    "print( (m+M)/m *sqrt(2*g*l*(1-cos(t))))\n"
   ]
  },
  {
   "cell_type": "code",
   "execution_count": 1,
   "metadata": {},
   "outputs": [
    {
     "name": "stdout",
     "output_type": "stream",
     "text": [
      "8.169440499857995\n"
     ]
    }
   ],
   "source": [
    "e=20\n",
    "d=5.3\n",
    "b=12\n",
    "c=5.2\n",
    "\n",
    "print((e/2*d*e+c/2*(b-d)*c)/(d*e+(b-d)*c))"
   ]
  }
 ],
 "metadata": {
  "interpreter": {
   "hash": "31f2aee4e71d21fbe5cf8b01ff0e069b9275f58929596ceb00d14d90e3e16cd6"
  },
  "kernelspec": {
   "display_name": "Python 3.8.2 64-bit",
   "name": "python3"
  },
  "language_info": {
   "codemirror_mode": {
    "name": "ipython",
    "version": 3
   },
   "file_extension": ".py",
   "mimetype": "text/x-python",
   "name": "python",
   "nbconvert_exporter": "python",
   "pygments_lexer": "ipython3",
   "version": "3.8.9"
  },
  "orig_nbformat": 4
 },
 "nbformat": 4,
 "nbformat_minor": 2
}
